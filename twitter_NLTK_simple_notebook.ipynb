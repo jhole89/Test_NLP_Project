{
 "cells": [
  {
   "cell_type": "code",
   "execution_count": 2,
   "metadata": {
    "collapsed": false,
    "scrolled": false
   },
   "outputs": [
    {
     "name": "stdout",
     "output_type": "stream",
     "text": [
      "[nltk_data] Downloading package punkt to /root/nltk_data...\n",
      "[nltk_data]   Package punkt is already up-to-date!\n",
      "[nltk_data] Downloading package stopwords to /root/nltk_data...\n",
      "[nltk_data]   Package stopwords is already up-to-date!\n"
     ]
    },
    {
     "data": {
      "text/plain": [
       "True"
      ]
     },
     "execution_count": 2,
     "metadata": {},
     "output_type": "execute_result"
    }
   ],
   "source": [
    "!pip install -q tweepy vincent\n",
    "import tweepy, json, nltk, re, operator, string, vincent, pandas\n",
    "from tweepy import OAuthHandler\n",
    "from nltk import bigrams\n",
    "from nltk.tokenize import word_tokenize\n",
    "from nltk.corpus import stopwords\n",
    "from collections import Counter, defaultdict\n",
    "nltk.download('punkt')\n",
    "nltk.download('stopwords')"
   ]
  },
  {
   "cell_type": "code",
   "execution_count": 3,
   "metadata": {
    "collapsed": false
   },
   "outputs": [
    {
     "name": "stdout",
     "output_type": "stream",
     "text": [
      "consumer key: TZ4YbJHmNjd2OJXx1phfiFW8v\n",
      "consumer secret: huzNiEjbc4G6YO7T9vnXIiP2wMyObVt9ofzBLkoj6HvKua8Ini\n",
      "access token: 3291780214-DqMAexAvWrQ1aMHAVM3QGXvtiu7oWOvIwpM2uGH\n",
      "access secret: Hye20gQJ86xNk7fA7WC0j5pQ3H2rg3oFH5F85UNMAOKzf\n"
     ]
    }
   ],
   "source": [
    "# Connecting\n",
    "\n",
    "def authorise():\n",
    "    '''set up tweepy twitter api connection'''\n",
    "    consumer_key = input('consumer key: ')\n",
    "    consumer_secret = input('consumer secret: ')\n",
    "    access_token = input('access token: ')\n",
    "    access_secret = input('access secret: ')\n",
    "    auth = OAuthHandler(consumer_key, consumer_secret)\n",
    "    auth.set_access_token(access_token, access_secret)\n",
    "    api = tweepy.API(auth)\n",
    "    return api\n",
    "\n",
    "api = authorise()"
   ]
  },
  {
   "cell_type": "code",
   "execution_count": 24,
   "metadata": {
    "collapsed": false,
    "scrolled": false
   },
   "outputs": [
    {
     "name": "stdout",
     "output_type": "stream",
     "text": [
      "Please enter the twitter username: DaveGorman\n"
     ]
    }
   ],
   "source": [
    "# Data Sourcing\n",
    "\n",
    "def get_user():\n",
    "    '''get user id from username'''\n",
    "    username = input(\"Please enter the twitter username: \")\n",
    "    user = api.get_user(username)\n",
    "    return user.id\n",
    "\n",
    "def process_or_store(tweet):\n",
    "    '''process or store tweet data'''\n",
    "    json_store.append(json.dumps(tweet, indent=4))\n",
    "\n",
    "user_id = get_user()\n",
    "json_store = []\n",
    "\n",
    "for status in tweepy.Cursor(api.user_timeline, id=user_id).items(100):\n",
    "    # Process a single status\n",
    "    process_or_store(status._json)"
   ]
  },
  {
   "cell_type": "code",
   "execution_count": 32,
   "metadata": {
    "collapsed": false
   },
   "outputs": [],
   "source": [
    "# Data Wrangling\n",
    "\n",
    "emoticons_str = r\"\"\"\n",
    "    (?:\n",
    "        [:=;] # Eyes\n",
    "        [oO\\-]? # Nose (optional)\n",
    "        [D\\)\\]\\(\\]/\\\\OpP] # Mouth\n",
    "    )\"\"\"\n",
    "\n",
    "regex_str = [\n",
    "    emoticons_str,\n",
    "    r'<[^>]+>', # HTML tags\n",
    "    r'(?:@[\\w_]+)', # @-mentions\n",
    "    r\"(?:\\#+[\\w_]+[\\w\\'_\\-]*[\\w_]+)\", # hash-tags\n",
    "    r'http[s]?://(?:[a-z]|[0-9]|[$-_@.&amp;+]|[!*\\(\\),]|(?:%[0-9a-f][0-9a-f]))+', # URLs\n",
    "    r'(?:(?:\\d+,?)+(?:\\.?\\d+)?)', # numbers\n",
    "    r\"(?:[a-z][a-z'\\-_]+[a-z])\", # words with - and '\n",
    "    r'(?:[\\w_]+)', # other words\n",
    "    r'(?:\\S)' # anything else\n",
    "]\n",
    "\n",
    "tokens_re = re.compile(r'('+'|'.join(regex_str)+')', re.VERBOSE | re.IGNORECASE)\n",
    "emoticon_re = re.compile(r'^'+emoticons_str+'$', re.VERBOSE | re.IGNORECASE)\n",
    "\n",
    "def tokenize(s):\n",
    "    return tokens_re.findall(s)\n",
    " \n",
    "def preprocess(s, lowercase=False):\n",
    "    tokens = tokenize(s)\n",
    "    if lowercase:\n",
    "        tokens = [token if emoticon_re.search(token) else token.lower() for token in tokens]\n",
    "    return tokens\n",
    "\n",
    "punctuation = list(string.punctuation)\n",
    "stop = stopwords.words('english') + punctuation + ['rt','via','…']\n",
    "\n",
    "count_terms_only = Counter()\n",
    "count_all = Counter()\n",
    "cooccurrence_matrix = defaultdict(lambda: defaultdict(int))\n",
    "dates_PTT = []\n",
    "\n",
    "for doc_count, document in enumerate(json_store):\n",
    "    tweet = json.loads(document)\n",
    "    terms_all = [term.lower() for term in preprocess(tweet['text'])]\n",
    "    terms_only = [term.lower() for term in preprocess(tweet['text']) if term.lower() not in stop and not term.startswith(('#','@'))]\n",
    "    terms_hash = [term.lower() for term in preprocess(tweet['text']) if term.startswith('#')]\n",
    "    \n",
    "    if '#PrepareToTry' in terms_hash:\n",
    "        dates_PTT.append(tweet['created_at'])\n",
    "        \n",
    "    count_all.update(terms_all)\n",
    "    count_terms_only.update(terms_only)\n",
    "    \n",
    "    for i in range(len(terms_only)-1):\n",
    "        for j in range(i+1, len(terms_only)):\n",
    "            w1, w2 = sorted([terms_only[i], terms_only[j]])\n",
    "            if w1 != w2:\n",
    "                cooccurrence_matrix[w1][w2] += 1"
   ]
  },
  {
   "cell_type": "code",
   "execution_count": 33,
   "metadata": {
    "collapsed": false
   },
   "outputs": [
    {
     "name": "stdout",
     "output_type": "stream",
     "text": [
      "[(('repeated', 'ta'), 3), (('life', 'modern'), 3), (('know', 'ta'), 3), (('know', 'repeated'), 3), (('ta', 'tweets'), 3)]\n"
     ]
    }
   ],
   "source": [
    "# Data Analysis\n",
    "\n",
    "max_matrix = []\n",
    "# For each term, look for the most common co-occurrent terms\n",
    "for t1 in cooccurrence_matrix:\n",
    "    t1_max_terms = sorted(cooccurrence_matrix[t1].items(), key=operator.itemgetter(1), reverse=True)[:5]\n",
    "    for t2, t2_count in t1_max_terms:\n",
    "        max_matrix.append(((t1, t2), t2_count))\n",
    "# Get the most frequent co-occurrences\n",
    "terms_max = sorted(max_matrix, key=operator.itemgetter(1), reverse=True)\n",
    "print(terms_max[:5])\n",
    "\n",
    "# a list of \"1\" to count the hashtags\n",
    "ones = [1]*len(dates_PTT)\n",
    "# the index of the series\n",
    "idx = pandas.DatetimeIndex(dates_PTT)\n",
    "# the actual series (at series of 1s for the moment)\n",
    "PTT = pandas.Series(ones, index=idx)\n",
    " \n",
    "# Resampling / bucketing\n",
    "per_hour = PTT.resample('1Min').sum().fillna(0)"
   ]
  },
  {
   "cell_type": "code",
   "execution_count": 34,
   "metadata": {
    "collapsed": false
   },
   "outputs": [
    {
     "data": {
      "text/html": [
       "\n",
       "           <script>\n",
       "               \n",
       "                function vct_load_lib(url, callback){\n",
       "                      if(typeof d3 !== 'undefined' &&\n",
       "                         url === 'http://d3js.org/d3.v3.min.js'){\n",
       "                        callback()\n",
       "                      }\n",
       "                      var s = document.createElement('script');\n",
       "                      s.src = url;\n",
       "                      s.async = true;\n",
       "                      s.onreadystatechange = s.onload = callback;\n",
       "                      s.onerror = function(){\n",
       "                        console.warn(\"failed to load library \" + url);\n",
       "                        };\n",
       "                      document.getElementsByTagName(\"head\")[0].appendChild(s);\n",
       "                };\n",
       "                var vincent_event = new CustomEvent(\n",
       "                  \"vincent_libs_loaded\",\n",
       "                  {bubbles: true, cancelable: true}\n",
       "                );\n",
       "                \n",
       "               function load_all_libs(){\n",
       "                  console.log('Loading Vincent libs...')\n",
       "                  vct_load_lib('http://d3js.org/d3.v3.min.js', function(){\n",
       "                  vct_load_lib('http://d3js.org/d3.geo.projection.v0.min.js', function(){\n",
       "                  vct_load_lib('http://wrobstory.github.io/d3-cloud/d3.layout.cloud.js', function(){\n",
       "                  vct_load_lib('http://wrobstory.github.io/vega/vega.v1.3.3.js', function(){\n",
       "                  window.dispatchEvent(vincent_event);\n",
       "                  });\n",
       "                  });\n",
       "                  });\n",
       "                  });\n",
       "               };\n",
       "               if(typeof define === \"function\" && define.amd){\n",
       "                    if (window['d3'] === undefined ||\n",
       "                        window['topojson'] === undefined){\n",
       "                        require.config(\n",
       "                            {paths: {\n",
       "                              d3: 'http://d3js.org/d3.v3.min',\n",
       "                              topojson: 'http://d3js.org/topojson.v1.min'\n",
       "                              }\n",
       "                            }\n",
       "                          );\n",
       "                        require([\"d3\"], function(d3){\n",
       "                            console.log('Loading Vincent from require.js...')\n",
       "                            window.d3 = d3;\n",
       "                            require([\"topojson\"], function(topojson){\n",
       "                                window.topojson = topojson;\n",
       "                                load_all_libs();\n",
       "                            });\n",
       "                        });\n",
       "                    } else {\n",
       "                        load_all_libs();\n",
       "                    };\n",
       "               }else{\n",
       "                    console.log('Require.js not found, loading manually...')\n",
       "                    load_all_libs();\n",
       "               };\n",
       "\n",
       "           </script>"
      ],
      "text/plain": [
       "<IPython.core.display.HTML object>"
      ]
     },
     "metadata": {},
     "output_type": "display_data"
    },
    {
     "data": {
      "text/html": [
       "<div id=\"vis4b2bc30964fc48bdb7c5d830f76f1ee6\"></div>\n",
       "<script>\n",
       "   ( function() {\n",
       "     var _do_plot = function() {\n",
       "       if (typeof vg === 'undefined') {\n",
       "         window.addEventListener('vincent_libs_loaded', _do_plot)\n",
       "         return;\n",
       "       }\n",
       "       vg.parse.spec({\"axes\": [{\"scale\": \"x\", \"type\": \"x\"}, {\"scale\": \"y\", \"type\": \"y\"}], \"data\": [{\"name\": \"table\", \"values\": [{\"col\": \"data\", \"idx\": \"ta\", \"val\": 16}, {\"col\": \"data\", \"idx\": \"thanks\", \"val\": 13}, {\"col\": \"data\", \"idx\": \"ha\", \"val\": 9}, {\"col\": \"data\", \"idx\": \"know\", \"val\": 8}, {\"col\": \"data\", \"idx\": \"think\", \"val\": 7}, {\"col\": \"data\", \"idx\": \"it's\", \"val\": 7}, {\"col\": \"data\", \"idx\": \"\\u2217\", \"val\": 6}, {\"col\": \"data\", \"idx\": \"thank\", \"val\": 6}, {\"col\": \"data\", \"idx\": \"like\", \"val\": 6}, {\"col\": \"data\", \"idx\": \"series\", \"val\": 4}, {\"col\": \"data\", \"idx\": \"seems\", \"val\": 4}, {\"col\": \"data\", \"idx\": \"see\", \"val\": 4}, {\"col\": \"data\", \"idx\": \"say\", \"val\": 4}, {\"col\": \"data\", \"idx\": \"marketing\", \"val\": 4}, {\"col\": \"data\", \"idx\": \"last\", \"val\": 4}, {\"col\": \"data\", \"idx\": \"repeated\", \"val\": 3}, {\"col\": \"data\", \"idx\": \"life\", \"val\": 3}, {\"col\": \"data\", \"idx\": \"um\", \"val\": 3}, {\"col\": \"data\", \"idx\": \"i'm\", \"val\": 3}, {\"col\": \"data\", \"idx\": \"\\u2019\", \"val\": 3}]}, {\"name\": \"stats\", \"source\": \"table\", \"transform\": [{\"keys\": [\"data.idx\"], \"type\": \"facet\"}, {\"type\": \"stats\", \"value\": \"data.val\"}]}], \"height\": 500, \"legends\": [], \"marks\": [{\"from\": {\"data\": \"table\", \"transform\": [{\"keys\": [\"data.col\"], \"type\": \"facet\"}, {\"height\": \"data.val\", \"point\": \"data.idx\", \"type\": \"stack\"}]}, \"marks\": [{\"properties\": {\"enter\": {\"fill\": {\"field\": \"data.col\", \"scale\": \"color\"}, \"width\": {\"band\": true, \"offset\": -1, \"scale\": \"x\"}, \"x\": {\"field\": \"data.idx\", \"scale\": \"x\"}, \"y\": {\"field\": \"y\", \"scale\": \"y\"}, \"y2\": {\"field\": \"y2\", \"scale\": \"y\"}}}, \"type\": \"rect\"}], \"type\": \"group\"}], \"padding\": \"auto\", \"scales\": [{\"domain\": {\"data\": \"table\", \"field\": \"data.idx\"}, \"name\": \"x\", \"range\": \"width\", \"type\": \"ordinal\", \"zero\": false}, {\"domain\": {\"data\": \"stats\", \"field\": \"sum\"}, \"name\": \"y\", \"nice\": true, \"range\": \"height\"}, {\"domain\": {\"data\": \"table\", \"field\": \"data.col\"}, \"name\": \"color\", \"range\": \"category20\", \"type\": \"ordinal\"}], \"width\": 960}, function(chart) {\n",
       "         chart({el: \"#vis4b2bc30964fc48bdb7c5d830f76f1ee6\"}).update();\n",
       "       });\n",
       "     };\n",
       "     _do_plot();\n",
       "   })();\n",
       "</script>\n",
       "<style>.vega canvas {width: 100%;}</style>\n",
       "        "
      ],
      "text/plain": [
       "<IPython.core.display.HTML object>"
      ]
     },
     "metadata": {},
     "output_type": "display_data"
    },
    {
     "data": {
      "text/html": [
       "<div id=\"visd505a3c6f725404cb0033355365c93ac\"></div>\n",
       "<script>\n",
       "   ( function() {\n",
       "     var _do_plot = function() {\n",
       "       if (typeof vg === 'undefined') {\n",
       "         window.addEventListener('vincent_libs_loaded', _do_plot)\n",
       "         return;\n",
       "       }\n",
       "       vg.parse.spec({\"axes\": [{\"scale\": \"x\", \"title\": \"Time\", \"type\": \"x\"}, {\"scale\": \"y\", \"title\": \"Freq\", \"type\": \"y\"}], \"data\": [{\"name\": \"table\", \"values\": []}], \"height\": 500, \"legends\": [], \"marks\": [{\"from\": {\"data\": \"table\", \"transform\": [{\"keys\": [\"data.col\"], \"type\": \"facet\"}]}, \"marks\": [{\"properties\": {\"enter\": {\"stroke\": {\"field\": \"data.col\", \"scale\": \"color\"}, \"strokeWidth\": {\"value\": 2}, \"x\": {\"field\": \"data.idx\", \"scale\": \"x\"}, \"y\": {\"field\": \"data.val\", \"scale\": \"y\"}}}, \"type\": \"line\"}], \"type\": \"group\"}], \"padding\": \"auto\", \"scales\": [{\"domain\": {\"data\": \"table\", \"field\": \"data.idx\"}, \"name\": \"x\", \"range\": \"width\", \"type\": \"time\"}, {\"domain\": {\"data\": \"table\", \"field\": \"data.val\"}, \"name\": \"y\", \"nice\": true, \"range\": \"height\"}, {\"domain\": {\"data\": \"table\", \"field\": \"data.col\"}, \"name\": \"color\", \"range\": \"category20\", \"type\": \"ordinal\"}], \"width\": 960}, function(chart) {\n",
       "         chart({el: \"#visd505a3c6f725404cb0033355365c93ac\"}).update();\n",
       "       });\n",
       "     };\n",
       "     _do_plot();\n",
       "   })();\n",
       "</script>\n",
       "<style>.vega canvas {width: 100%;}</style>\n",
       "        "
      ],
      "text/plain": [
       "<IPython.core.display.HTML object>"
      ]
     },
     "metadata": {},
     "output_type": "display_data"
    }
   ],
   "source": [
    "# Data visualisation\n",
    "\n",
    "word_freq = count_terms_only.most_common(20)\n",
    "labels, freq = zip(*word_freq)\n",
    "data = {'data': freq, 'x': labels}\n",
    "\n",
    "vincent.core.initialize_notebook()\n",
    "bar = vincent.Bar(data, iter_idx='x')\n",
    "bar.display()\n",
    "\n",
    "time_chart = vincent.Line(PTT)\n",
    "time_chart.axis_titles(x='Time', y='Freq')\n",
    "time_chart.display()"
   ]
  },
  {
   "cell_type": "code",
   "execution_count": 36,
   "metadata": {
    "collapsed": false
   },
   "outputs": [],
   "source": [
    "p_t = {}\n",
    "p_t_com = defaultdict(lambda : defaultdict(int))\n",
    "n_docs = doc_count\n",
    "\n",
    "for term, n in count_all.items():\n",
    "    p_t[term] = n / n_docs\n",
    "    for t2 in cooccurrence_matrix[term]:\n",
    "        p_t_com[term][t2] = cooccurrence_matrix[term][t2] / n_docs"
   ]
  },
  {
   "cell_type": "code",
   "execution_count": null,
   "metadata": {
    "collapsed": true
   },
   "outputs": [],
   "source": [
    "positive_vocab = [\n",
    "    'good', 'nice', 'great', 'awesome', 'outstanding',\n",
    "    'fantastic', 'terrific', ':)', ':-)', 'like', 'love'\n",
    "]\n",
    "negative_vocab = [\n",
    "    'bad', 'terrible', 'crap', 'useless', 'hate', ':(', ':-('\n",
    "]"
   ]
  }
 ],
 "metadata": {
  "anaconda-cloud": {},
  "kernelspec": {
   "display_name": "Python [conda root]",
   "language": "python",
   "name": "conda-root-py"
  },
  "language_info": {
   "codemirror_mode": {
    "name": "ipython",
    "version": 3
   },
   "file_extension": ".py",
   "mimetype": "text/x-python",
   "name": "python",
   "nbconvert_exporter": "python",
   "pygments_lexer": "ipython3",
   "version": "3.5.2"
  }
 },
 "nbformat": 4,
 "nbformat_minor": 1
}
