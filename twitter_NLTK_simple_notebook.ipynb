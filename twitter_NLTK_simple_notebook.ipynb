{
 "cells": [
  {
   "cell_type": "code",
   "execution_count": null,
   "metadata": {
    "collapsed": false,
    "scrolled": false
   },
   "outputs": [],
   "source": [
    "!pip install -q tweepy vincent\n",
    "import tweepy, json, nltk, re, operator, string, vincent, pandas, math, pprint\n",
    "from tweepy import OAuthHandler\n",
    "from nltk import bigrams\n",
    "from nltk.tokenize import word_tokenize\n",
    "from nltk.corpus import stopwords\n",
    "from collections import Counter, defaultdict\n",
    "nltk.download('punkt')\n",
    "nltk.download('stopwords')"
   ]
  },
  {
   "cell_type": "code",
   "execution_count": null,
   "metadata": {
    "collapsed": false
   },
   "outputs": [],
   "source": [
    "# Connecting\n",
    "\n",
    "def authorise():\n",
    "    '''set up tweepy twitter api connection'''\n",
    "    consumer_key = input('consumer key: ')\n",
    "    consumer_secret = input('consumer secret: ')\n",
    "    access_token = input('access token: ')\n",
    "    access_secret = input('access secret: ')\n",
    "    auth = OAuthHandler(consumer_key, consumer_secret)\n",
    "    auth.set_access_token(access_token, access_secret)\n",
    "    api = tweepy.API(auth)\n",
    "    return api\n",
    "\n",
    "api = authorise()"
   ]
  },
  {
   "cell_type": "code",
   "execution_count": null,
   "metadata": {
    "collapsed": false,
    "scrolled": false
   },
   "outputs": [],
   "source": [
    "# Data Sourcing\n",
    "\n",
    "def get_user():\n",
    "    '''get user id from username'''\n",
    "    username = input(\"Please enter the twitter username: \")\n",
    "    user = api.get_user(username)\n",
    "    return user.id\n",
    "\n",
    "def process_or_store(tweet):\n",
    "    '''process or store tweet data'''\n",
    "    json_store.append(json.dumps(tweet, indent=4))\n",
    "\n",
    "user_id = get_user()\n",
    "json_store = []\n",
    "\n",
    "for status in tweepy.Cursor(api.user_timeline, id=user_id).items(100):\n",
    "    # Process a single status\n",
    "    process_or_store(status._json)"
   ]
  },
  {
   "cell_type": "code",
   "execution_count": null,
   "metadata": {
    "collapsed": false
   },
   "outputs": [],
   "source": [
    "# Data Wrangling\n",
    "\n",
    "emoticons_str = r\"\"\"\n",
    "    (?:\n",
    "        [:=;] # Eyes\n",
    "        [oO\\-]? # Nose (optional)\n",
    "        [D\\)\\]\\(\\]/\\\\OpP] # Mouth\n",
    "    )\"\"\"\n",
    "\n",
    "regex_str = [\n",
    "    emoticons_str,\n",
    "    r'<[^>]+>', # HTML tags\n",
    "    r'(?:@[\\w_]+)', # @-mentions\n",
    "    r\"(?:\\#+[\\w_]+[\\w\\'_\\-]*[\\w_]+)\", # hash-tags\n",
    "    r'http[s]?://(?:[a-z]|[0-9]|[$-_@.&amp;+]|[!*\\(\\),]|(?:%[0-9a-f][0-9a-f]))+', # URLs\n",
    "    r'(?:(?:\\d+,?)+(?:\\.?\\d+)?)', # numbers\n",
    "    r\"(?:[a-z][a-z'\\-_]+[a-z])\", # words with - and '\n",
    "    r'(?:[\\w_]+)', # other words\n",
    "    r'(?:\\S)' # anything else\n",
    "]\n",
    "\n",
    "tokens_re = re.compile(r'('+'|'.join(regex_str)+')', re.VERBOSE | re.IGNORECASE)\n",
    "emoticon_re = re.compile(r'^'+emoticons_str+'$', re.VERBOSE | re.IGNORECASE)\n",
    "\n",
    "def tokenize(s):\n",
    "    return tokens_re.findall(s)\n",
    " \n",
    "def preprocess(s, lowercase=False):\n",
    "    tokens = tokenize(s)\n",
    "    if lowercase:\n",
    "        tokens = [token if emoticon_re.search(token) else token.lower() for token in tokens]\n",
    "    return tokens\n",
    "\n",
    "punctuation = list(string.punctuation)\n",
    "stop = stopwords.words('english') + punctuation + ['rt','via','…']\n",
    "\n",
    "count_terms_only = Counter()\n",
    "count_all = Counter()\n",
    "cooccurrence_matrix = defaultdict(lambda: defaultdict(int))\n",
    "dates_PTT = []\n",
    "\n",
    "for doc_count, document in enumerate(json_store):\n",
    "    tweet = json.loads(document)\n",
    "    terms_all = [term.lower() for term in preprocess(tweet['text'])]\n",
    "    terms_only = [term.lower() for term in preprocess(tweet['text']) if term.lower() not in stop and not term.startswith(('#','@'))]\n",
    "    terms_hash = [term.lower() for term in preprocess(tweet['text']) if term.startswith('#')]\n",
    "    \n",
    "    if '#PrepareToTry' in terms_hash:\n",
    "        dates_PTT.append(tweet['created_at'])\n",
    "        \n",
    "    count_all.update(terms_all)\n",
    "    count_terms_only.update(terms_only)\n",
    "    \n",
    "    for i in range(len(terms_only)-1):\n",
    "        for j in range(i+1, len(terms_only)):\n",
    "            w1, w2 = sorted([terms_only[i], terms_only[j]])\n",
    "            if w1 != w2:\n",
    "                cooccurrence_matrix[w1][w2] += 1"
   ]
  },
  {
   "cell_type": "code",
   "execution_count": null,
   "metadata": {
    "collapsed": false
   },
   "outputs": [],
   "source": [
    "# Data Analysis\n",
    "\n",
    "max_matrix = []\n",
    "# For each term, look for the most common co-occurrent terms\n",
    "for t1 in cooccurrence_matrix:\n",
    "    t1_max_terms = sorted(cooccurrence_matrix[t1].items(), key=operator.itemgetter(1), reverse=True)[:5]\n",
    "    for t2, t2_count in t1_max_terms:\n",
    "        max_matrix.append(((t1, t2), t2_count))\n",
    "# Get the most frequent co-occurrences\n",
    "terms_max = sorted(max_matrix, key=operator.itemgetter(1), reverse=True)\n",
    "print(terms_max[:5])\n",
    "\n",
    "# a list of \"1\" to count the hashtags\n",
    "ones = [1]*len(dates_PTT)\n",
    "# the index of the series\n",
    "idx = pandas.DatetimeIndex(dates_PTT)\n",
    "# the actual series (at series of 1s for the moment)\n",
    "PTT = pandas.Series(ones, index=idx)\n",
    " \n",
    "# Resampling / bucketing\n",
    "per_hour = PTT.resample('1Min').sum().fillna(0)"
   ]
  },
  {
   "cell_type": "code",
   "execution_count": null,
   "metadata": {
    "collapsed": false
   },
   "outputs": [],
   "source": [
    "# Data visualisation\n",
    "\n",
    "word_freq = count_terms_only.most_common(20)\n",
    "labels, freq = zip(*word_freq)\n",
    "data = {'data': freq, 'x': labels}\n",
    "\n",
    "vincent.core.initialize_notebook()\n",
    "bar = vincent.Bar(data, iter_idx='x')\n",
    "bar.display()\n",
    "\n",
    "time_chart = vincent.Line(PTT)\n",
    "time_chart.axis_titles(x='Time', y='Freq')\n",
    "time_chart.display()"
   ]
  },
  {
   "cell_type": "code",
   "execution_count": null,
   "metadata": {
    "collapsed": false
   },
   "outputs": [],
   "source": [
    "p_t = {}\n",
    "p_t_com = defaultdict(lambda : defaultdict(int))\n",
    "n_docs = doc_count\n",
    "\n",
    "for term, n in count_all.items():\n",
    "    p_t[term] = n / n_docs\n",
    "    for t2 in cooccurrence_matrix[term]:\n",
    "        p_t_com[term][t2] = cooccurrence_matrix[term][t2] / n_docs"
   ]
  },
  {
   "cell_type": "code",
   "execution_count": null,
   "metadata": {
    "collapsed": true
   },
   "outputs": [],
   "source": [
    "positive_vocab = [\n",
    "    'good', 'nice', 'great', 'awesome', 'outstanding',\n",
    "    'fantastic', 'terrific', ':)', ':-)', 'like', 'love'\n",
    "]\n",
    "negative_vocab = [\n",
    "    'bad', 'terrible', 'crap', 'useless', 'hate', ':(', ':-('\n",
    "]"
   ]
  },
  {
   "cell_type": "code",
   "execution_count": null,
   "metadata": {
    "collapsed": false
   },
   "outputs": [],
   "source": [
    "pmi = defaultdict(lambda : defaultdict(int))\n",
    "for t1 in p_t:\n",
    "    for t2 in cooccurrence_matrix[t1]:\n",
    "        denom = p_t[t1] * p_t[t2]\n",
    "        pmi[t1][t2] = math.log2(p_t_com[t1][t2] / denom)\n",
    "\n",
    "semantic_orientation = {}\n",
    "for term, n in p_t.items():\n",
    "    positive_assoc = sum(pmi[term][tx] for tx in positive_vocab)\n",
    "    negative_assoc = sum(pmi[term][tx] for tx in negative_vocab)\n",
    "    semantic_orientation[term] = positive_assoc - negative_assoc\n",
    "    \n",
    "semantic_sorted = sorted(semantic_orientation.items(), \n",
    "                         key=operator.itemgetter(1), \n",
    "                         reverse=True)\n",
    "top_pos = semantic_sorted[:10]\n",
    "top_neg = semantic_sorted[-10:]\n",
    " \n",
    "print(top_pos)\n",
    "print(top_neg)\n"
   ]
  },
  {
   "cell_type": "code",
   "execution_count": null,
   "metadata": {
    "collapsed": true
   },
   "outputs": [],
   "source": []
  }
 ],
 "metadata": {
  "anaconda-cloud": {},
  "kernelspec": {
   "display_name": "Python [conda root]",
   "language": "python",
   "name": "conda-root-py"
  },
  "language_info": {
   "codemirror_mode": {
    "name": "ipython",
    "version": 3
   },
   "file_extension": ".py",
   "mimetype": "text/x-python",
   "name": "python",
   "nbconvert_exporter": "python",
   "pygments_lexer": "ipython3",
   "version": "3.5.2"
  }
 },
 "nbformat": 4,
 "nbformat_minor": 1
}
